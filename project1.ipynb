{
  "nbformat": 4,
  "nbformat_minor": 0,
  "metadata": {
    "colab": {
      "provenance": [],
      "gpuType": "T4"
    },
    "kernelspec": {
      "name": "python3",
      "display_name": "Python 3"
    },
    "language_info": {
      "name": "python"
    },
    "accelerator": "GPU"
  },
  "cells": [
    {
      "cell_type": "code",
      "source": [
        "import os\n",
        "import tensorflow as tf\n",
        "import matplotlib.pyplot as plt\n",
        "\n",
        "# Hyperparameters for faster training.\n",
        "BATCH_SIZE = 16\n",
        "IMG_SIZE = (128, 128)  # Reduced resolution speeds processing.\n",
        "DATASET_DIR = \"/content/dataset\"  # Root directory of your dataset\n",
        "\n",
        "# Load training dataset.\n",
        "train_dataset = tf.keras.preprocessing.image_dataset_from_directory(\n",
        "    os.path.join(DATASET_DIR, \"train\"),\n",
        "    shuffle=True,\n",
        "    batch_size=BATCH_SIZE,\n",
        "    image_size=IMG_SIZE\n",
        ")\n",
        "\n",
        "# Load test dataset.\n",
        "test_dataset = tf.keras.preprocessing.image_dataset_from_directory(\n",
        "    os.path.join(DATASET_DIR, \"test\"),\n",
        "    shuffle=False,\n",
        "    batch_size=BATCH_SIZE,\n",
        "    image_size=IMG_SIZE\n",
        ")\n",
        "\n",
        "CLASS_NAMES = train_dataset.class_names\n",
        "NUM_CLASSES = len(CLASS_NAMES)\n",
        "print(\"Classes:\", CLASS_NAMES, \"Number of classes:\", NUM_CLASSES)"
      ],
      "metadata": {
        "colab": {
          "base_uri": "https://localhost:8080/"
        },
        "id": "kL1pOpO6kywI",
        "outputId": "4352626d-fe5f-43d8-99d1-bfb60eec4aa2"
      },
      "execution_count": null,
      "outputs": [
        {
          "output_type": "stream",
          "name": "stdout",
          "text": [
            "Found 100000 files belonging to 2 classes.\n",
            "Found 20000 files belonging to 2 classes.\n",
            "Classes: ['FAKE', 'REAL'] Number of classes: 2\n"
          ]
        }
      ]
    },
    {
      "cell_type": "code",
      "source": [
        "from tensorflow.keras import layers\n",
        "\n",
        "# Simplified data augmentation: only horizontal flip.\n",
        "simple_augmentation = tf.keras.Sequential([\n",
        "    layers.RandomFlip(\"horizontal\")\n",
        "])\n",
        "\n",
        "# Rescaling to normalize pixel values.\n",
        "preprocess_input = layers.Rescaling(1./255)\n",
        "\n",
        "def prepare_dataset(dataset, augment=False):\n",
        "    AUTOTUNE = tf.data.AUTOTUNE\n",
        "    def preprocess(image, label):\n",
        "        image = tf.cast(image, tf.float32)\n",
        "        image = preprocess_input(image)\n",
        "        if augment:\n",
        "            image = simple_augmentation(image)\n",
        "        return image, label\n",
        "    return dataset.map(preprocess, num_parallel_calls=AUTOTUNE)\n",
        "\n",
        "# Prepare the datasets.\n",
        "train_ds = prepare_dataset(train_dataset, augment=True)\n",
        "test_ds = prepare_dataset(test_dataset, augment=False)\n",
        "\n",
        "# Use a small prefetch buffer to limit memory overhead.\n",
        "train_ds = train_ds.prefetch(buffer_size=2)\n",
        "test_ds = test_ds.prefetch(buffer_size=2)"
      ],
      "metadata": {
        "id": "0-p6Eh5xk1nL"
      },
      "execution_count": null,
      "outputs": []
    },
    {
      "cell_type": "code",
      "source": [
        "# Enable mixed precision.\n",
        "from tensorflow.keras import mixed_precision\n",
        "policy = mixed_precision.Policy('mixed_float16')\n",
        "mixed_precision.set_global_policy(policy)\n",
        "print(\"Mixed precision policy:\", mixed_precision.global_policy())"
      ],
      "metadata": {
        "colab": {
          "base_uri": "https://localhost:8080/"
        },
        "id": "WYIu7ejYk32E",
        "outputId": "3e07ed02-e583-4f4d-efc4-08f1589e84d5"
      },
      "execution_count": null,
      "outputs": [
        {
          "output_type": "stream",
          "name": "stdout",
          "text": [
            "Mixed precision policy: <DTypePolicy \"mixed_float16\">\n"
          ]
        }
      ]
    },
    {
      "cell_type": "code",
      "source": [
        "from tensorflow.keras import layers, models\n",
        "\n",
        "def build_finetune_model(model_name, input_shape=(128, 128, 3), num_classes=NUM_CLASSES):\n",
        "    if model_name == \"EfficientNetB0\":\n",
        "        base_model = tf.keras.applications.EfficientNetB0(\n",
        "            include_top=False, weights=\"imagenet\", input_shape=input_shape)\n",
        "    elif model_name == \"ResNet50\":\n",
        "        base_model = tf.keras.applications.ResNet50(\n",
        "            include_top=False, weights=\"imagenet\", input_shape=input_shape)\n",
        "    elif model_name == \"MobileNetV2\":\n",
        "        base_model = tf.keras.applications.MobileNetV2(\n",
        "            include_top=False, weights=\"imagenet\", input_shape=input_shape)\n",
        "    else:\n",
        "        raise ValueError(\"Unsupported model name\")\n",
        "\n",
        "    # Freeze the base model layers.\n",
        "    base_model.trainable = False\n",
        "\n",
        "    inputs = layers.Input(shape=input_shape)\n",
        "    # Use the base model with training=False to maintain train-time consistency of BN layers.\n",
        "    x = base_model(inputs, training=False)\n",
        "    x = layers.GlobalAveragePooling2D()(x)\n",
        "    x = layers.Dropout(0.2)(x)\n",
        "    # Final output layer producing predictions. When using mixed precision, force `float32` in activation.\n",
        "    x = layers.Dense(num_classes)(x)\n",
        "    outputs = tf.keras.layers.Activation(\"softmax\", dtype=\"float32\")(x)\n",
        "\n",
        "    model = models.Model(inputs, outputs)\n",
        "    return model"
      ],
      "metadata": {
        "id": "7uBf7YDGk42l"
      },
      "execution_count": null,
      "outputs": []
    },
    {
      "cell_type": "code",
      "source": [
        "from tensorflow.keras import callbacks, optimizers\n",
        "\n",
        "EPOCHS = 5   # Fewer epochs for quick iterations\n",
        "history_dict = {}  # To store training history for each model\n",
        "\n",
        "model_names = [\"EfficientNetB0\", \"ResNet50\", \"MobileNetV2\"]\n",
        "\n",
        "for name in model_names:\n",
        "    print(f\"\\nTraining {name} with Adam optimizer...\\n\")\n",
        "\n",
        "    model = build_finetune_model(name)\n",
        "    model.compile(optimizer=optimizers.Adam(),\n",
        "                  loss='sparse_categorical_crossentropy',\n",
        "                  metrics=['accuracy'])\n",
        "\n",
        "    # Setup callbacks to save the best model based on training loss.\n",
        "    checkpoint_cb = callbacks.ModelCheckpoint(\n",
        "        filepath=f'/content/{name}_Adam_best.h5',\n",
        "        save_best_only=True, monitor='loss', verbose=1)\n",
        "    earlystop_cb = callbacks.EarlyStopping(monitor='loss', patience=3, restore_best_weights=True)\n",
        "\n",
        "    h = model.fit(\n",
        "        train_ds,\n",
        "        epochs=EPOCHS,\n",
        "        callbacks=[checkpoint_cb, earlystop_cb],\n",
        "        verbose=2\n",
        "    )\n",
        "\n",
        "    history_dict[name] = h.history\n",
        "\n",
        "    # Evaluate on test dataset.\n",
        "    test_loss, test_acc = model.evaluate(test_ds)\n",
        "    print(f\"{name} -> Test Loss: {test_loss:.4f} - Test Accuracy: {test_acc:.4f}\\n\")"
      ],
      "metadata": {
        "colab": {
          "base_uri": "https://localhost:8080/"
        },
        "id": "1_9NZCGtk6dB",
        "outputId": "888be4cf-54c7-414b-c0ae-d6cb1afc8c02"
      },
      "execution_count": null,
      "outputs": [
        {
          "output_type": "stream",
          "name": "stdout",
          "text": [
            "\n",
            "Training EfficientNetB0 with Adam optimizer...\n",
            "\n",
            "Epoch 1/5\n",
            "\n",
            "Epoch 1: loss improved from inf to 0.70587, saving model to /content/EfficientNetB0_Adam_best.h5\n"
          ]
        },
        {
          "output_type": "stream",
          "name": "stderr",
          "text": [
            "WARNING:absl:You are saving your model as an HDF5 file via `model.save()` or `keras.saving.save_model(model)`. This file format is considered legacy. We recommend using instead the native Keras format, e.g. `model.save('my_model.keras')` or `keras.saving.save_model(model, 'my_model.keras')`. \n"
          ]
        },
        {
          "output_type": "stream",
          "name": "stdout",
          "text": [
            "6250/6250 - 140s - 22ms/step - accuracy: 0.5015 - loss: 0.7059\n",
            "Epoch 2/5\n",
            "\n",
            "Epoch 2: loss improved from 0.70587 to 0.70488, saving model to /content/EfficientNetB0_Adam_best.h5\n"
          ]
        },
        {
          "output_type": "stream",
          "name": "stderr",
          "text": [
            "WARNING:absl:You are saving your model as an HDF5 file via `model.save()` or `keras.saving.save_model(model)`. This file format is considered legacy. We recommend using instead the native Keras format, e.g. `model.save('my_model.keras')` or `keras.saving.save_model(model, 'my_model.keras')`. \n"
          ]
        },
        {
          "output_type": "stream",
          "name": "stdout",
          "text": [
            "6250/6250 - 115s - 18ms/step - accuracy: 0.5052 - loss: 0.7049\n",
            "Epoch 3/5\n",
            "\n",
            "Epoch 3: loss improved from 0.70488 to 0.70393, saving model to /content/EfficientNetB0_Adam_best.h5\n"
          ]
        },
        {
          "output_type": "stream",
          "name": "stderr",
          "text": [
            "WARNING:absl:You are saving your model as an HDF5 file via `model.save()` or `keras.saving.save_model(model)`. This file format is considered legacy. We recommend using instead the native Keras format, e.g. `model.save('my_model.keras')` or `keras.saving.save_model(model, 'my_model.keras')`. \n"
          ]
        },
        {
          "output_type": "stream",
          "name": "stdout",
          "text": [
            "6250/6250 - 115s - 18ms/step - accuracy: 0.5080 - loss: 0.7039\n",
            "Epoch 4/5\n",
            "\n",
            "Epoch 4: loss improved from 0.70393 to 0.70385, saving model to /content/EfficientNetB0_Adam_best.h5\n"
          ]
        },
        {
          "output_type": "stream",
          "name": "stderr",
          "text": [
            "WARNING:absl:You are saving your model as an HDF5 file via `model.save()` or `keras.saving.save_model(model)`. This file format is considered legacy. We recommend using instead the native Keras format, e.g. `model.save('my_model.keras')` or `keras.saving.save_model(model, 'my_model.keras')`. \n"
          ]
        },
        {
          "output_type": "stream",
          "name": "stdout",
          "text": [
            "6250/6250 - 141s - 23ms/step - accuracy: 0.5101 - loss: 0.7038\n",
            "Epoch 5/5\n",
            "\n",
            "Epoch 5: loss improved from 0.70385 to 0.70330, saving model to /content/EfficientNetB0_Adam_best.h5\n"
          ]
        },
        {
          "output_type": "stream",
          "name": "stderr",
          "text": [
            "WARNING:absl:You are saving your model as an HDF5 file via `model.save()` or `keras.saving.save_model(model)`. This file format is considered legacy. We recommend using instead the native Keras format, e.g. `model.save('my_model.keras')` or `keras.saving.save_model(model, 'my_model.keras')`. \n"
          ]
        },
        {
          "output_type": "stream",
          "name": "stdout",
          "text": [
            "6250/6250 - 114s - 18ms/step - accuracy: 0.5122 - loss: 0.7033\n",
            "\u001b[1m1250/1250\u001b[0m \u001b[32m━━━━━━━━━━━━━━━━━━━━\u001b[0m\u001b[37m\u001b[0m \u001b[1m23s\u001b[0m 13ms/step - accuracy: 0.8461 - loss: 0.5881\n",
            "EfficientNetB0 -> Test Loss: 0.7017 - Test Accuracy: 0.5000\n",
            "\n",
            "\n",
            "Training ResNet50 with Adam optimizer...\n",
            "\n",
            "Downloading data from https://storage.googleapis.com/tensorflow/keras-applications/resnet/resnet50_weights_tf_dim_ordering_tf_kernels_notop.h5\n",
            "\u001b[1m94765736/94765736\u001b[0m \u001b[32m━━━━━━━━━━━━━━━━━━━━\u001b[0m\u001b[37m\u001b[0m \u001b[1m0s\u001b[0m 0us/step\n",
            "Epoch 1/5\n",
            "\n",
            "Epoch 1: loss improved from inf to 0.62177, saving model to /content/ResNet50_Adam_best.h5\n"
          ]
        },
        {
          "output_type": "stream",
          "name": "stderr",
          "text": [
            "WARNING:absl:You are saving your model as an HDF5 file via `model.save()` or `keras.saving.save_model(model)`. This file format is considered legacy. We recommend using instead the native Keras format, e.g. `model.save('my_model.keras')` or `keras.saving.save_model(model, 'my_model.keras')`. \n"
          ]
        },
        {
          "output_type": "stream",
          "name": "stdout",
          "text": [
            "6250/6250 - 130s - 21ms/step - accuracy: 0.6581 - loss: 0.6218\n",
            "Epoch 2/5\n",
            "\n",
            "Epoch 2: loss improved from 0.62177 to 0.58344, saving model to /content/ResNet50_Adam_best.h5\n"
          ]
        },
        {
          "output_type": "stream",
          "name": "stderr",
          "text": [
            "WARNING:absl:You are saving your model as an HDF5 file via `model.save()` or `keras.saving.save_model(model)`. This file format is considered legacy. We recommend using instead the native Keras format, e.g. `model.save('my_model.keras')` or `keras.saving.save_model(model, 'my_model.keras')`. \n"
          ]
        },
        {
          "output_type": "stream",
          "name": "stdout",
          "text": [
            "6250/6250 - 135s - 22ms/step - accuracy: 0.6964 - loss: 0.5834\n",
            "Epoch 3/5\n",
            "\n",
            "Epoch 3: loss improved from 0.58344 to 0.57255, saving model to /content/ResNet50_Adam_best.h5\n"
          ]
        },
        {
          "output_type": "stream",
          "name": "stderr",
          "text": [
            "WARNING:absl:You are saving your model as an HDF5 file via `model.save()` or `keras.saving.save_model(model)`. This file format is considered legacy. We recommend using instead the native Keras format, e.g. `model.save('my_model.keras')` or `keras.saving.save_model(model, 'my_model.keras')`. \n"
          ]
        },
        {
          "output_type": "stream",
          "name": "stdout",
          "text": [
            "6250/6250 - 141s - 23ms/step - accuracy: 0.7046 - loss: 0.5726\n",
            "Epoch 4/5\n",
            "\n",
            "Epoch 4: loss improved from 0.57255 to 0.56534, saving model to /content/ResNet50_Adam_best.h5\n"
          ]
        },
        {
          "output_type": "stream",
          "name": "stderr",
          "text": [
            "WARNING:absl:You are saving your model as an HDF5 file via `model.save()` or `keras.saving.save_model(model)`. This file format is considered legacy. We recommend using instead the native Keras format, e.g. `model.save('my_model.keras')` or `keras.saving.save_model(model, 'my_model.keras')`. \n"
          ]
        },
        {
          "output_type": "stream",
          "name": "stdout",
          "text": [
            "6250/6250 - 147s - 24ms/step - accuracy: 0.7098 - loss: 0.5653\n",
            "Epoch 5/5\n",
            "\n",
            "Epoch 5: loss improved from 0.56534 to 0.56162, saving model to /content/ResNet50_Adam_best.h5\n"
          ]
        },
        {
          "output_type": "stream",
          "name": "stderr",
          "text": [
            "WARNING:absl:You are saving your model as an HDF5 file via `model.save()` or `keras.saving.save_model(model)`. This file format is considered legacy. We recommend using instead the native Keras format, e.g. `model.save('my_model.keras')` or `keras.saving.save_model(model, 'my_model.keras')`. \n"
          ]
        },
        {
          "output_type": "stream",
          "name": "stdout",
          "text": [
            "6250/6250 - 138s - 22ms/step - accuracy: 0.7120 - loss: 0.5616\n",
            "\u001b[1m1250/1250\u001b[0m \u001b[32m━━━━━━━━━━━━━━━━━━━━\u001b[0m\u001b[37m\u001b[0m \u001b[1m20s\u001b[0m 12ms/step - accuracy: 0.7749 - loss: 0.4788\n",
            "ResNet50 -> Test Loss: 0.5441 - Test Accuracy: 0.7444\n",
            "\n",
            "\n",
            "Training MobileNetV2 with Adam optimizer...\n",
            "\n",
            "Epoch 1/5\n",
            "\n",
            "Epoch 1: loss improved from inf to 0.36093, saving model to /content/MobileNetV2_Adam_best.h5\n"
          ]
        },
        {
          "output_type": "stream",
          "name": "stderr",
          "text": [
            "WARNING:absl:You are saving your model as an HDF5 file via `model.save()` or `keras.saving.save_model(model)`. This file format is considered legacy. We recommend using instead the native Keras format, e.g. `model.save('my_model.keras')` or `keras.saving.save_model(model, 'my_model.keras')`. \n"
          ]
        },
        {
          "output_type": "stream",
          "name": "stdout",
          "text": [
            "6250/6250 - 116s - 19ms/step - accuracy: 0.8441 - loss: 0.3609\n",
            "Epoch 2/5\n",
            "\n",
            "Epoch 2: loss improved from 0.36093 to 0.34739, saving model to /content/MobileNetV2_Adam_best.h5\n"
          ]
        },
        {
          "output_type": "stream",
          "name": "stderr",
          "text": [
            "WARNING:absl:You are saving your model as an HDF5 file via `model.save()` or `keras.saving.save_model(model)`. This file format is considered legacy. We recommend using instead the native Keras format, e.g. `model.save('my_model.keras')` or `keras.saving.save_model(model, 'my_model.keras')`. \n"
          ]
        },
        {
          "output_type": "stream",
          "name": "stdout",
          "text": [
            "6250/6250 - 138s - 22ms/step - accuracy: 0.8524 - loss: 0.3474\n",
            "Epoch 3/5\n",
            "\n",
            "Epoch 3: loss improved from 0.34739 to 0.34570, saving model to /content/MobileNetV2_Adam_best.h5\n"
          ]
        },
        {
          "output_type": "stream",
          "name": "stderr",
          "text": [
            "WARNING:absl:You are saving your model as an HDF5 file via `model.save()` or `keras.saving.save_model(model)`. This file format is considered legacy. We recommend using instead the native Keras format, e.g. `model.save('my_model.keras')` or `keras.saving.save_model(model, 'my_model.keras')`. \n"
          ]
        },
        {
          "output_type": "stream",
          "name": "stdout",
          "text": [
            "6250/6250 - 108s - 17ms/step - accuracy: 0.8537 - loss: 0.3457\n",
            "Epoch 4/5\n",
            "\n",
            "Epoch 4: loss did not improve from 0.34570\n",
            "6250/6250 - 109s - 18ms/step - accuracy: 0.8545 - loss: 0.3473\n",
            "Epoch 5/5\n",
            "\n",
            "Epoch 5: loss did not improve from 0.34570\n",
            "6250/6250 - 142s - 23ms/step - accuracy: 0.8541 - loss: 0.3463\n",
            "\u001b[1m1250/1250\u001b[0m \u001b[32m━━━━━━━━━━━━━━━━━━━━\u001b[0m\u001b[37m\u001b[0m \u001b[1m17s\u001b[0m 11ms/step - accuracy: 0.8876 - loss: 0.2653\n",
            "MobileNetV2 -> Test Loss: 0.3019 - Test Accuracy: 0.8733\n",
            "\n"
          ]
        }
      ]
    },
    {
      "cell_type": "code",
      "source": [
        "import matplotlib.pyplot as plt\n",
        "\n",
        "def plot_history(histories, metric, title):\n",
        "    plt.figure(figsize=(10,6))\n",
        "    for key, h in histories.items():\n",
        "        plt.plot(h[metric], label=f'{key}')\n",
        "    plt.title(title)\n",
        "    plt.xlabel(\"Epoch\")\n",
        "    plt.ylabel(metric.capitalize())\n",
        "    plt.legend()\n",
        "    plt.show()\n",
        "\n",
        "plot_history(history_dict, \"loss\", \"Training Loss for All Models\")\n",
        "plot_history(history_dict, \"accuracy\", \"Training Accuracy for All Models\")"
      ],
      "metadata": {
        "colab": {
          "base_uri": "https://localhost:8080/",
          "height": 821
        },
        "id": "Wz2hcfLMk8j4",
        "outputId": "7b19dc83-c3a6-4c33-834e-ed3b1c446971"
      },
      "execution_count": null,
      "outputs": [
        {
          "output_type": "display_data",
          "data": {
            "text/plain": [
              "<Figure size 1000x600 with 1 Axes>"
            ],
            "image/png": "[encoded data removed]"
          },
          "metadata": {}
        },
        {
          "output_type": "display_data",
          "data": {
            "text/plain": [
              "<Figure size 1000x600 with 1 Axes>"
            ],
            "image/png": "[encoded data removed]"
          },
          "metadata": {}
        }
      ]
    },
    {
      "cell_type": "code",
      "source": [],
      "metadata": {
        "id": "vVqZOXxFk_PR"
      },
      "execution_count": null,
      "outputs": []
    }
  ]
}